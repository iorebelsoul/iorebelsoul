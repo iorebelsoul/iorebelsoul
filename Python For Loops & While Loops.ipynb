{
  "nbformat": 4,
  "nbformat_minor": 0,
  "metadata": {
    "colab": {
      "provenance": [],
      "authorship_tag": "ABX9TyODJRHV7yLfmWdSfiqSO3Tz",
      "include_colab_link": true
    },
    "kernelspec": {
      "name": "python3",
      "display_name": "Python 3"
    },
    "language_info": {
      "name": "python"
    }
  },
  "cells": [
    {
      "cell_type": "markdown",
      "metadata": {
        "id": "view-in-github",
        "colab_type": "text"
      },
      "source": [
        "<a href=\"https://colab.research.google.com/github/iorebelsoul/iorebelsoul/blob/main/Python%20For%20Loops%20%26%20While%20Loops.ipynb\" target=\"_parent\"><img src=\"https://colab.research.google.com/assets/colab-badge.svg\" alt=\"Open In Colab\"/></a>"
      ]
    },
    {
      "cell_type": "code",
      "execution_count": 1,
      "metadata": {
        "colab": {
          "base_uri": "https://localhost:8080/"
        },
        "id": "wGWsBzdjk8Qs",
        "outputId": "581fbe83-4bbe-4867-add2-8d9fed61c9f6"
      },
      "outputs": [
        {
          "output_type": "stream",
          "name": "stdout",
          "text": [
            "user can still connect to an additional device\n",
            "user can still connect to an additional device\n",
            "user can still connect to an additional device\n",
            "user can still connect to an additional device\n",
            "user can still connect to an additional device\n",
            "user can still connect to an additional device\n",
            "user can still connect to an additional device\n",
            "user can still connect to an additional device\n",
            "user can still connect to an additional device\n",
            "user has reached maximum number (10) of devices.\n",
            "Login attempts: 0\n",
            "Login attempts: 1\n",
            "Login attempts: 2\n",
            "Login attempts: 3\n",
            "Login attempts: 4\n"
          ]
        }
      ],
      "source": [
        "max_devices = 10\n",
        "i = 1\n",
        "\n",
        "while i < max_devices:\n",
        "  print(\"user can still connect to an additional device\")\n",
        "  i = i + 1\n",
        "\n",
        "if i == max_devices:\n",
        "  print(\"user has reached maximum number (10) of devices.\")\n",
        "\n",
        "\n",
        "login_attempts = 0\n",
        "while login_attempts < 5:\n",
        "    print(\"Login attempts:\", login_attempts)\n",
        "    login_attempts = login_attempts + 1\n",
        "\n",
        "count = 0\n",
        "login_status = True\n",
        "while login_status == True:\n",
        "    print(\"Try again.\")\n",
        "    count = count + 1\n",
        "    if count == 4:\n",
        "        login_status = False\n",
        "\n",
        "\n",
        "computer_assets = [\"laptop1\", \"desktop20\", \"smartphone03\"]\n",
        "for asset in computer_assets:\n",
        "    if asset == \"desktop20\":\n",
        "        break\n",
        "    print(asset)\n",
        "\n",
        "\n",
        "\n",
        "computer_assets = [\"laptop1\", \"desktop20\", \"smartphone03\"]\n",
        "for asset in computer_assets:\n",
        "    if asset == \"desktop20\":\n",
        "        continue\n",
        "    print(asset)"
      ]
    },
    {
      "cell_type": "code",
      "source": [],
      "metadata": {
        "id": "4fxB8LdhlD3_"
      },
      "execution_count": null,
      "outputs": []
    }
  ]
}